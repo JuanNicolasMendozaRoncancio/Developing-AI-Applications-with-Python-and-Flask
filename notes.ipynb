{
 "cells": [
  {
   "cell_type": "markdown",
   "id": "ed9c964d",
   "metadata": {},
   "source": [
    "# Module 1\n"
   ]
  },
  {
   "cell_type": "markdown",
   "id": "44516cff",
   "metadata": {},
   "source": [
    "Python with Flask is a lightweight and flexible web application framework. It's known for its simplicity, minimalism, and ease of use. It is designed as a micro-framework providing a lightweight structure which facilitates developers in building a web application quickly and easily but not compromising on the efficiency and ability to scale up from small-scale projects to larger, more complex applications."
   ]
  },
  {
   "cell_type": "markdown",
   "id": "30619c76",
   "metadata": {},
   "source": [
    "Flask is a good choice for smaller, simpler applications. However, 'micro' has more to do with what Flask is, rather than limiting its scalability potential. Flask can be used for large-scale systems and more complex applications with attention to specific requirements and constraints, careful planning, good architecture, and modular design, but it may require more effort to manage and scale compared to more robust and feature-rich frameworks.\n",
    "\n",
    "Its rich and robust ecosystem provides developers with tools, libraries, and functionalities to handle web development tasks such as routing, request handling, template rendering or similar tasks. Caching, load-balancing, replication and storing your data in a scalable manner can help achieve optimal results."
   ]
  },
  {
   "cell_type": "markdown",
   "id": "d1f08e24",
   "metadata": {},
   "source": [
    " A customer requests you to build an application to help their employees track their daily tasks. Now, consider a scenario where a customer wants you to build a web app to manage hotel reservations, from creation to customer check-out. In either scenario, can you start building the application when the customer makes a request? Not really! You will need to perform certain activities like analyzing requirements, planning, and coding before the application is ready for users. \n",
    "Regardless of the application type, every application will go through different phases, called the application development lifecycle.\n",
    "\n",
    "\n",
    "You can divide the application development lifecycle into seven phases: \n",
    "\n",
    "- Requirement gathering: \n",
    "\n",
    "    The requirement gathering phase, you will capture the requirements across all aspects of the application, including user requirements, business requirements, and technical requirements. Let’s consider the hotel reservation app. For this app, a user requirement may be that users must be able to view the different rooms and amenities available. Determining the right charge for different rooms and amenities may be a business requirement. A technical requirement might be that the app must run on all browsers and mobile devices. The goal should be to capture as many requirements as possible, even if it seems redundant or trivial. You must also identify any constraints of design and viability of the business model. For example, for the hotel reservation app, one constraint is that the server needs to keep the status of room availability updated at all times, which has an associated cost. Therefore, to keep the business viable, a minor convenience fee is added to the final payment.\n",
    "\n",
    "- Analysis and Desing:\n",
    "\n",
    "    After gathering the requirements and constraints, you must analyze each to create a possible solution for the application’s design. During analysis and design, there might be multiple rounds of verification and revision to create a model solution that meets all the specified requirements. Across the analysis and design phases of application development, you must maintain proper documentation with records of all updates in the design. This documentation should be clear and concise as used during the code and test phase. The final proposed design and the specified requirements are passed on to the code and test phase.\n",
    "\n",
    "- Code and test:\n",
    "\n",
    "    During the code and test phase, the team uses the programming requirements specified in the design documentation to code, test, revise, and test the application programs until the code meets all documented requirements. Let’s review the testing phase. The tests you conduct for the unit code is called unit testing. \n",
    "    Conduct the unit testing at the programming level to ensure you meet all required specifications. After the unit testing, you can generate an acceptable application version. The new version of the application is then run through a series of user and system level tests.  \n",
    "\n",
    "- User and system test:\n",
    "\n",
    "    The user tests verify the functionality from a user’s point of view. In addition, you will need to execute several system-level tests, including integration and performance testing. Integration tests verify that all involved programs continue functioning as expected after integration. Integration testing also verifies that the application functions within a larger framework. \n",
    "    Performance testing helps evaluate the speed, scalability, and stability of the application based on varying workloads.\n",
    "\n",
    "- Production:\n",
    "\n",
    "    After testing, you can generate a new application version and send it to production. Once in production, end users can access and use it. You must ensure that the application functions accurately and is available to users. When the application is in the production phase, it must remain in a steady state.\n",
    "    \n",
    "- Maintenance:\n",
    "\n",
    "    The last phase in the application development lifecycle is maintenance. The application might need an upgrade, or you might need to add new features. In this case, the new features must go through all previous phases before being integrated into the application version deployed in production."
   ]
  },
  {
   "cell_type": "markdown",
   "id": "0fec5a1b",
   "metadata": {},
   "source": [
    "A web app, is a program stored on a remote server and delivered over the internet. A user interacts with the app using a browser. Web services like e-commerce sites, webmail, and so on, are all web apps. While some apps may depend on the kind of browser being used, most web apps work on all modern web browsers. \n",
    "\n",
    "A web app requires three components to process a client request: a web server to manage raised requests, an app server to execute the requested task, and a database to store the information needed to complete the task. \n",
    "\n",
    "When programming web apps, you will write code for the user end or the front-end using JavaScript, HTML, or CSS. You will also code for the server-end or back-end using Python, Java, or Ruby. There are several advantages to using web apps over apps that strictly run locally on a user’s system. The advantages include: \n",
    "\n",
    "- Developers can make the same version of the app available to multiple users at the same time. \n",
    "- Users have the flexibility of using the app from their platform of choice, such as desktop, laptop, or mobile device. \n",
    "- Users can access the app through the browser of their choice. Users do not need to install the app on their local systems. "
   ]
  },
  {
   "cell_type": "markdown",
   "id": "010a8fe1",
   "metadata": {},
   "source": [
    "An API is a software component that enables two apps that are not connected with each other to communicate. APIs help create more flexibility for programmers and enable them to request data from otherwise closed-off apps. As a result, APIs have standardized rules and functions that determine what data can be taken or modified within an app and how that process occurs. For example, the apps on your phone require you to grant permission to different features of your phone, like location, camera, audio, and recorder. An example of an app that uses an API is a weather app. Your weather app does not generate weather data itself. Instead, it simply requests information from a weather API. The API connects the software that gathers and stores weather data with the app on your mobile device. The device, in turn, provides you with a detailed forecast for the next day. \n",
    "\n",
    "\n",
    "An API can be beneficial for many reasons, including it: \n",
    "- Improves connectivity between apps.\n",
    "-  Supports traditional create, read, update, delete (or CRUD) actions. \n",
    "- Works with HTTP verbs including, PUT, POST, DELETE, and GET. \n",
    "- Is based on HTTP, making it customizable. \n",
    "\n",
    "\n",
    "API is a more generic term given to all forms of apps that create a link between any two parts of a system. Web apps are a form of API that communicate between the front end and the back end. To clarify the distinction between web apps and APIs, let’s consider the example of an e-commerce shopping service. When you access the e-commerce shopping service from a browser, the browser acts as the API that connects you to the web app. When you select a product, the web app checks the availability of the product and, if available, displays its price. If you try to access the e-commerce shopping service using a mobile device, the app in your device acts as the API that connects to the e-commerce shopping service. \n",
    "\n",
    "The nature of all web apps is to share data with other apps; essentially, all web apps may be considered APIs. However, API is a generic term and includes both “online” or web-based, and “offline” apps. To summarize, all web apps are APIs, but not all APIs are web apps. "
   ]
  },
  {
   "cell_type": "markdown",
   "id": "5c82910b",
   "metadata": {},
   "source": [
    "## Unit testing\n",
    "\n",
    "Unit testing is a method to validate if units of code are operating as designed. A unit is a smaller, testable part of an application. Here is an example of a unit, which has two functions, square and doubler, in the mymodule.py file.\n",
    "\n",
    "![Descripción de la imagen](Images\\imageI.png)"
   ]
  },
  {
   "cell_type": "markdown",
   "id": "67b4e7df",
   "metadata": {},
   "source": [
    "To develop unit tests, you will use the unit test library, which is an installed Python module providing a framework containing test functionality. \n",
    "Let's briefly review the end-to-end testing process from unit testing through publishing to the production code base. During code development, you will test each unit. The test is performed in two phases. In the first phase, you will test the unit on your local system. If the test fails, you will determine the reason for the failure and fix the issue. Then, you will again test the unit. After the unit test passes, you will need to test the unit in a server environment, such as the Continuous Integration Continuous Delivery, or CICD, test server. \n",
    "If the unit fails the server test, you will receive the failure details. You will need to determine and fix the issue. Once the unit passes the server test, the unit is integrated into the final code base. After an overview to the unit test process, let's review some test functions to understand how to build unit tests"
   ]
  },
  {
   "cell_type": "markdown",
   "id": "5e9df959",
   "metadata": {},
   "source": [
    "![Descripción de la imagen](Images\\imageII.png)"
   ]
  },
  {
   "cell_type": "markdown",
   "id": "f9206b5d",
   "metadata": {},
   "source": [
    "The first step is to import the unit test Python library. Type import unit test. Next, import the functions to test. For example, to import the square and doubler from the mymodule unit to unit test, type from mymodule import square, doubler. Then, build the unit testing class to call the unit test from a single class object. \n",
    "\n",
    "\n",
    "For example, to create a class named TestMyModule, enter class test with uppercase T in the first occurrence, my with uppercase M, module with capital M, unit test, dot, test case with T and C in uppercase. Notice how the class name has test prefixed to the unit name in the example. It is a good naming convention to prefix test to the class name to help distinguish between the unit class and the unit test class. Next, make the class inherit the test case class of the unit test library. For example, test case is the test case class of the unit test library. Inheriting the class allows you to leverage the existing methods in the test case class. Then, create functions in the unit testing class corresponding to each function that needs to be tested. \n",
    "\n",
    "For example, in the TestMyModule class, two functions, test square and test doubler, correspond to the square and doubler functions in the mymodule unit. Note, make sure that the functions are prepended with the test in the unit test module, because only functions that start with test are run. Finally, you can create test cases. When creating the test cases, add one or more assertion methods to ensure that the unit test condition is met. One assertion function is assertEqual. Notice that the method has been added to the test case class in the code. The assertEqual function compares two values or entities and determines if they are equal. \n",
    "\n",
    "The method is used to check if functions are returning the correct values. One of the parameters that the assertEqual function takes is the actual value. For the actual value, you will call the function that you want to test. The second parameter is the expected value where you will add what the function is expected to return. In the example, the first test is for the square function using the number 2, which should return a value 4 if the function executes correctly. As part of the test, first, the function is evaluated. Then, the two values are compared to see if they are equal. \n",
    "\n",
    "Depending on the output of the comparison, the test passes or fails. After running the test file, an output is generated. The output displays the test results along with some additional details. For example, if the output displays that two tests were run in 0 seconds, OK indicates that the test passed and the two functions were implemented correctly. But what happens if the func"
   ]
  },
  {
   "cell_type": "markdown",
   "id": "bac1f2e7",
   "metadata": {},
   "source": [
    "| Package/Method | Description | Code Example |\n",
    "|---------------|-------------|--------------|\n",
    "| **Packaging** | To create a package, the folder structure is as follows:<br>Project folder → Package name → `__init__.py`, `module_1.py`, `module_2.py`, and so on.<br>In the `__init__.py` file, add code to reference the modules in the package. | `module1.py`<br>```python<br>def function_1(arg):<br>    return <operation output><br>```<br><br>`__init__.py`:<br>```python<br>from . import function_1<br>``` |\n",
    "| **Python Style Guide** | • Four spaces for indentation<br>• Use blank lines to separate functions and classes<br>• Use spaces around operators and after commas<br>• Add larger blocks of code inside functions<br>• Name functions and files using lowercase with underscores<br>• Name classes using CamelCase<br>• Name constants in capital letters with underscores separating words | ```python<br>def function_1(a, b):<br>    if a > b:<br>        c = c + 5<br>    else:<br>        c = c - 3<br>    return c<br>```<br>...<br>```python<br>c = function_1(a, b)<br>```<br><br>Constant Definition example:<br>```python<br>MAX_FILE_UPLOAD_SIZE<br>``` |\n",
    "| **Static Code Analysis** | Use Static code analysis method to evaluate your code against a predefined style and standard without executing the code.<br>For example, use Pylint to perform static code analysis. | Shell code:<br>```bash<br>pylint code.py<br>``` |\n",
    "| **Unit Testing** | Unit testing is a method to validate if units of code are operating as designed.<br>During code development, each unit is tested. The unit is tested in a continuous integration/continuous delivery test server environment.<br>You can use different test functions to build unit tests and review the unit test output to determine if the test passed or failed. | ```python<br>import unittest<br>from mypackage.mymodule import my_function<br><br>class TestMyFunction(unittest.TestCase):<br>    def test_my_function(self):<br>        result = my_function(<args>)<br>        self.asserEqual(result, <response>)<br><br>unittest.main()<br>``` |"
   ]
  },
  {
   "cell_type": "markdown",
   "id": "c9e9b223",
   "metadata": {},
   "source": [
    "# Module 2"
   ]
  },
  {
   "cell_type": "markdown",
   "id": "3e227f05",
   "metadata": {},
   "source": [
    "Python libraries are like toolkits. Each library has specific tools to simplify and expedite certain programming tasks. Libraries like NumPy facilitate advanced mathematical calculations. Pandas offer data manipulation and analysis capabilities. Matplotlib simplifies data visualization. These libraries save developers significant time and effort in creating these functions. \n",
    "\n",
    "For web application development, some Python libraries are essential. The Requests library simplifies the process of sending HTTP requests. BeautifulSoup makes it easy to scrape information from web pages for iterating, searching, and modifying the parse tree. SQLAlchemy is a SQL toolkit and Object-Relational Mapping, or ORM tool. It is a system that gives application developers the full power and flexibility of SQL. PyTest is a testing framework that allows users to create small, simple tests easily yet scales to support complex functional testing for applications and libraries. \n",
    "\n",
    "Frameworks are predefined structures for application development. In addition, Frameworks provide a set of guidelines for application development. Frameworks facilitate good coding practices by offering a well-defined structure for writing and organizing code and enabling the reuse of code libraries for added features.\n",
    "\n",
    "Some examples of frameworks include Django, Flask, and Web2Py. There are several benefits of using a framework for app development. One of the benefits of using a framework is that it eases the development process with the pre-written code libraries, modules, and developer guidelines. With pre-built debugging tools, web frameworks simplify the process of debugging web applications for the developers. Another benefit of using frameworks is that developers can add more functionality using less code. \n",
    "\n",
    "\n",
    "How? A framework is equipped with several pre-built libraries and modules, which a developer can leverage when creating their code. A developer does not need to create all required functionalities from scratch. Using frameworks improves database management efficiency. The frameworks come with built-in database integration tools, which help seamless integration of database endpoints for transferring data. With security being a key concern for application users, a benefit of using frameworks is that developers can leverage the built-in security features and guidelines to enforce security. Let’s briefly look at how frameworks and libraries differ from each other.\n",
    "\n",
    "The framework contains the basic flow and the architecture of an application, which enables you to build the complete application. A Python library is a set of packages that perform only specific functionality."
   ]
  },
  {
   "cell_type": "markdown",
   "id": "877b47ba",
   "metadata": {},
   "source": [
    "## FLASK\n"
   ]
  },
  {
   "cell_type": "markdown",
   "id": "3e551808",
   "metadata": {},
   "source": [
    "Flask is a micro framework that can create web applications. It is not opinionated like some other larger frameworks and does not bind the user to a specific set of tools. \n",
    "\n",
    "In 2004, Armin Ronacher created the framework as an April fool's joke. It quickly gained popularity for its ease of use and extensibility. Flask provides minimal dependencies you might need to create a web application. However, it is extensible and many community extensions add additional features to Flask. The main features of Flask include the following:\n",
    "\n",
    "- Flask has a web server that runs applications in development mode. \n",
    "- Flask also comes with a debugger to help debug applications. The debugger shows interactive traceback and stack trace in the browser. \n",
    "- Flask uses standard Python logging for application logs, and you can use the same logger to log custom messages about your application. \n",
    "- Flask provides a way to test different parts of your application. The testing feature enables developers to follow a test-driven approach. You can use frameworks like Pi test and coverage to ensure your code works as desired. -\n",
    "\n",
    "- Finally, developers can access the request and response objects to pull arguments and customize responses. "
   ]
  },
  {
   "cell_type": "markdown",
   "id": "d4a56758",
   "metadata": {},
   "source": [
    "Now, additional features of Flask are the following. The framework supports static assets like CSS files, JavaScript files, and images. Flask provides tags to load static files in the templates. You can also develop dynamic pages using Jinja templating framework and these dynamic pages can display information that may change for each request or may check if the user is logged in. Flask provides routing and supports dynamic URLs that are extremely useful for RESTful services. You can create routes for different HTTP methods and provide redirection in your application. You can write global error handlers in Flask that work on the application level. \n",
    "\n",
    "Finally, it supports user session management. Some of the popular community extensions that can be added to your application are the following. Flask-SQLAlchemy add support for ORM called SQLAlchemy to Flask, giving developers a way to work with database objects in Python. Flask-Mail provides the ability to set up an SMTP mail server. Flask-Admin lets you add admin interfaces to Flask applications easily. Flask-Uploads allow you to add customized file uploading to your application. Here are some other extensions. \n",
    "\n",
    "Flask-CORS allows your application to handle Cross-Origin Resource Sharing, making cross-origin JavaScript requests possible. Flask-Migrate adds database migrations to SQLAlchemy ORM. Flask-User adds user authentication, authorization, and other user management activities. Marshmallow adds extensive object serialization and deserialization support to your code. Finally, celery is a powerful task queue that can be used for simple background tasks and complex multi-storage programs and schedules. Flask is available on the Python package manager called pip, and pip is available in the lab environment. However, if installing on your machines, it is recommended that you first create a virtual environment using the venv or bin venv module. \n",
    "\n",
    "You can install Flask version 2.2.2. Now, it is recommended to pin the version number of the dependencies in your application. This ensures that the application can be reproduced from scratch in different environments like development, staging, and production. It also ensures new issues and bugs are not introduced by mistake when packages are updated automatically without a version number. Flask comes with some built-in dependencies that enable the various features. Werkzeug implements WSGI or the web server gateway interface. This is the standard Python interface between applications and servers. \n",
    "\n",
    "Jinja is a template language that renders the pages in your application. MarkupSafe comes with Jinja. It escapes untrusted input when rendering templates to avoid injection attacks. ItsDangerous is used to assign data securely. This helps determine if data has been tampered with and is used to protect Flask session cookie. Finally, Click is a framework for writing command-line applications. It provides the Flask command and allows adding custom management commands. \n",
    "\n",
    "\n",
    "__For deploing a server on Flask see server.py__"
   ]
  },
  {
   "cell_type": "markdown",
   "id": "b7a3998c",
   "metadata": {},
   "source": [
    "## Request and Response Objects – Using GET and POST Modes"
   ]
  },
  {
   "cell_type": "markdown",
   "id": "45679985",
   "metadata": {},
   "source": [
    "Let's learn how to customize routes in Flask. You define the path using the RouteDecorator, and the AddApp.RouteDecorator defaults to the Get method. Clients can only send Get requests to the specified path. Now, you can pass in a second argument of methods to control what HTTP methods the path responds to. For example, look at the following two methods that are the same. The Get method is implicit in this code, while this code explicitly specifies the Get method.\n",
    "\n",
    "![Descripción de la imagen](Images\\imageIII.png)"
   ]
  },
  {
   "cell_type": "markdown",
   "id": "c64432d2",
   "metadata": {},
   "source": [
    "Here's another example. The slash health URL will respond to Get and Post requests. If the request is Get, the code outputs the status of OK and the method of Get. If the request is Post, the code outputs the status of OK and the\n",
    "method of Post. \n",
    "\n",
    "![Descripción de la imagen](Images\\imageIV.png)\n",
    "\n",
    "This is the output from the Get curl command, while this is the output from the Post curl command.\n",
    "\n",
    "![Descripción de la imagen](Images\\imageV.png)\n"
   ]
  },
  {
   "cell_type": "markdown",
   "id": "aa9fa11a",
   "metadata": {},
   "source": [
    "All HTTP calls to Flask contain the request object created from the Flask.Request class. \n",
    "When a client requests a resource from the Flask server, it is handled by the AddApp.RouteDecorator. You can examine and explore the request object in the same method. Now, the following information is available in the request object: \n",
    "\n",
    "- The address of the server in the form of a tuple host port\n",
    "- The headers sent with the request, and the URL that is the resource asked by the request. \n",
    "- AccessRoute that lists all the IP addresses for requests that are forwarded multiple times. \n",
    "- FullPath that represents the complete path of the request, including any query string. \n",
    "- IsSecure is true if a client makes a request using HTTPS or WSS protocol. \n",
    "- IsJSON is true if the request contains JSON data. \n",
    "- And the Cookies dictionary contains any cookies sent with the request. \n",
    "\n",
    "In addition, you can access the following data from the header. \n",
    "\n",
    "- CacheControl holds information on how to cache in browsers. \n",
    "- Accept informs the browser what kind of content type is understood by the client. \n",
    "- AcceptEncoding indicates the code content. \n",
    "- UserAgent identifies the client, application, operating system, or version. \n",
    "- AcceptLanguage requests for a specific language and locale. \n",
    "- And Host specifies the host and port number of the requested server. \n",
    "\n",
    "Now, you can replace the request object with a custom request object, which is usually optional as the Flask request class attributes and methods are enough.\n",
    "\n",
    "\n"
   ]
  },
  {
   "cell_type": "markdown",
   "id": "bf0dbd67",
   "metadata": {},
   "source": [
    "Let's now look at some actual values printed on the server when a client makes a request. In this case, the client is the curl command from the terminal. The request server is 127.0.0.1, or localhost at port 5000. You next print out some headers. \n",
    "The host is the full path of localhost colon 5000. The user agent is curl version 7.79.1. And the client has requested the content type of application slash JSON. Okay, let's look at some more attributes from the request object. The URL requested is http colon forward slash forward slash localhost colon 5000. The access route list contains the single value of 127.0.0.1. The full path for the request is the home path indicated by a single forward slash. \n",
    "Is JSON is false as we are not sending any data with the GET request. Is secure is false as the URL is HTTP and not HTTPS. And the length of the cookies dictionary is zero.\n",
    "\n",
    "![Descripción de la imagen](Images\\imageVI.png)\n"
   ]
  },
  {
   "cell_type": "markdown",
   "id": "1cac0323",
   "metadata": {},
   "source": [
    "There are multiple ways to get information from the request object. Use the GET data to access data from the POST request as bytes. You are then responsible for parsing this data. You can also use the GET JSON method to get data parsed as JSON from the POST request. Now, Flask also provides more focused methods to get exact information from the request so you don't have to parse the data into a specific type. Args will give you query parameters as a dictionary. JSON will parse the data into a dictionary. Files will provide your user uploaded files. Form contains all values posted in a form submission. And Values combines the Args data with the Form data. Now that you know what the request object looks like and the methods to get data from the request parameters and body, let's see how to extract specific values from this data. The return types for the methods you have seen so far are either a Multidict, Immutable Multidict, or a Combined Multidict. All these data structures behave like a Python dictionary and you can use indexing or the GET method to extract values. \n",
    "\n",
    "\n",
    "For the given URL, you would like to extract the query parameters of Capstone and Rating. First, you import Flask and the request modules in your method. You extract the value for the course argument by using indexing. Then, you extract the value for the rating argument by using the GET method. The GET method returns a value of None if the argument is not present, whereas the indexing method returns an error and stops the server with a 400 bad request. \n",
    "The message shows the request in the browser with a course of Capstone and a rating of 10.\n",
    "\n",
    "![Descripción de la imagen](Images\\imageVII.png)\n"
   ]
  },
  {
   "cell_type": "markdown",
   "id": "3a3788fc",
   "metadata": {},
   "source": [
    "## Dynamic Routes"
   ]
  },
  {
   "cell_type": "markdown",
   "id": "a9893d84",
   "metadata": {},
   "source": [
    "The easiest way is to use the Python requests library. You can return the JSON from the external API to your client. However, you can also process the results before sending them back to your client. Here is an example, first, you import flask and request modules. The code here assumes you have already installed the requests library. \n",
    "You can define your route next. Use the requests library to request the openlibrary API and search for information for the author Michael Crichton. Store the response in a variable called res. Then check if the response’s status code from the openlibrary API is 200. If the response is 200, you return the JSON to the client. If the response happens to be 404, you send a message, “Something went wrong.\" Finally, in this hypothetical case, if the response is anything else, you return with a status of 500 and a message “Server error.” \n",
    "\n",
    "![Descripción de la imagen](Images\\imageVIII.png)\n"
   ]
  },
  {
   "cell_type": "markdown",
   "id": "a8b0a85d",
   "metadata": {},
   "source": [
    "When developing RESTful APIs, you can send some resource-id as part of the request URL. For example, you want to create an endpoint that returns book information by International Standard Book Number (ISBN), but instead of hard coding the ISBN, you want the client to send it as part of the URL Flask provides dynamic routing for this purpose Let's look at a concrete example: Add the variable called isbn as a dynamic part of the URL. Then pass this variable to the openlibrary API. The result is then sent back to the client. \n",
    "![Descripción de la imagen](Images\\imageIX.png)\n"
   ]
  },
  {
   "cell_type": "markdown",
   "id": "a08c3309",
   "metadata": {},
   "source": [
    "Flask also allows you to set the parameter type. The framework uses this information to validate incoming requests. For example, you can create an endpoint of terminals and SFO to get the number of terminals at the San Francisco airport. \n",
    "This route decorator triggers if the user sends a string at the end of the URL. Similarly, in the previous example, you can give ISBN to be a number. \n",
    "\n",
    "\n",
    "Here is an example of UUID. You can create an endpoint, \"network, “that has a specific UUID to get information about the network. You can write this code where the route expects a variable uuid of type uuid, the uuid is passed to the method as an argument, you return a success message if the uuid is found, otherwise, you return an error code with an appropriate message. \n",
    "\n",
    "![Descripción de la imagen](Images\\imageX.png)\n"
   ]
  },
  {
   "cell_type": "markdown",
   "id": "6d726c5d",
   "metadata": {},
   "source": [
    "## Error Handeling\n"
   ]
  },
  {
   "cell_type": "markdown",
   "id": "21edfd4e",
   "metadata": {},
   "source": [
    " Every HTTP response contains a three-digit code indicating different error and success status, and the client is responsible for consuming this error code. Valid response code ranges from 100 to 599. The error codes are organized in categories of 100 each. \n",
    " \n",
    "Error codes from 100 to 199 indicate the request has been received and are informational. Error codes from 200 to 299 indicate the request has been received and the requested operation is successful. Error codes in the 300s indicate there is a redirection on the server. Error codes in the range from 400 to 499 show an error in the request. And finally, error codes from 500 to 599 indicate an error on the server side. The APIs you will write in this course will follow this nomenclature. For example, if the client sends a GET request for an unavailable resource, you can send a 404 response back. \n",
    "\n",
    "And you can respond with a status 400 for incorrect requests. Flask server automatically returns a 200 OK status when you return from the add app.route method. 200 is also returned by default when you use the jsonify method to respond to a request. A successful response with the status code of 200 will be sent back when the given code executes. Now, your code can return a different code than the default one. Flask allows you to send the status code in a tuple along with the response. In the code, you send back an HTML response of my first application in action, with the status code of 200. You can also use the make_response method to explicitly set the status code. \n",
    "This code returns the same HTML message and HTTP status code of 200 as the previous code, but here you use the make_response method.\n",
    "\n",
    "![Descripción de la imagen](Images\\imageXI.png)\n"
   ]
  },
  {
   "cell_type": "markdown",
   "id": "7946ee4d",
   "metadata": {},
   "source": [
    "So now that you know the different HTTP codes, you as a developer need to return the right code from the service. Let's look at an example. This search_response method looks for the database's query parameter, q. The service calls the mock fetch_from_database method after parsing your query. \n",
    "The code returns the resource to the client if the resource exists. Server returns a code of 200 implicitly and returns 404 if the resource is not found.\n",
    "\n",
    "![Descripción de la imagen](Images\\imageXII.png)\n"
   ]
  },
  {
   "cell_type": "markdown",
   "id": "f40924d5",
   "metadata": {},
   "source": [
    "Now let's call this endpoint using the curl program. Call the route without a query parameter. The curl program returns a message of input parameter missing with a return status of 422. Next call the route with the correct resource id. The curl command returns the resource as the body and the status of 200. \n",
    "\n",
    "![Descripción de la imagen](Images\\imageXIII.png)\n"
   ]
  }
 ],
 "metadata": {
  "language_info": {
   "name": "python"
  }
 },
 "nbformat": 4,
 "nbformat_minor": 5
}
