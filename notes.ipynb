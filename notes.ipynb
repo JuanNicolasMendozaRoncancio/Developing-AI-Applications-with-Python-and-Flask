{
 "cells": [
  {
   "cell_type": "markdown",
   "id": "ed9c964d",
   "metadata": {},
   "source": [
    "# Module 1\n"
   ]
  },
  {
   "cell_type": "markdown",
   "id": "44516cff",
   "metadata": {},
   "source": [
    "Python with Flask is a lightweight and flexible web application framework. It's known for its simplicity, minimalism, and ease of use. It is designed as a micro-framework providing a lightweight structure which facilitates developers in building a web application quickly and easily but not compromising on the efficiency and ability to scale up from small-scale projects to larger, more complex applications."
   ]
  },
  {
   "cell_type": "markdown",
   "id": "30619c76",
   "metadata": {},
   "source": [
    "Flask is a good choice for smaller, simpler applications. However, 'micro' has more to do with what Flask is, rather than limiting its scalability potential. Flask can be used for large-scale systems and more complex applications with attention to specific requirements and constraints, careful planning, good architecture, and modular design, but it may require more effort to manage and scale compared to more robust and feature-rich frameworks.\n",
    "\n",
    "Its rich and robust ecosystem provides developers with tools, libraries, and functionalities to handle web development tasks such as routing, request handling, template rendering or similar tasks. Caching, load-balancing, replication and storing your data in a scalable manner can help achieve optimal results."
   ]
  },
  {
   "cell_type": "markdown",
   "id": "d1f08e24",
   "metadata": {},
   "source": [
    " A customer requests you to build an application to help their employees track their daily tasks. Now, consider a scenario where a customer wants you to build a web app to manage hotel reservations, from creation to customer check-out. In either scenario, can you start building the application when the customer makes a request? Not really! You will need to perform certain activities like analyzing requirements, planning, and coding before the application is ready for users. \n",
    "Regardless of the application type, every application will go through different phases, called the application development lifecycle.\n",
    "\n",
    "\n",
    "You can divide the application development lifecycle into seven phases: \n",
    "\n",
    "- Requirement gathering: \n",
    "\n",
    "    The requirement gathering phase, you will capture the requirements across all aspects of the application, including user requirements, business requirements, and technical requirements. Let’s consider the hotel reservation app. For this app, a user requirement may be that users must be able to view the different rooms and amenities available. Determining the right charge for different rooms and amenities may be a business requirement. A technical requirement might be that the app must run on all browsers and mobile devices. The goal should be to capture as many requirements as possible, even if it seems redundant or trivial. You must also identify any constraints of design and viability of the business model. For example, for the hotel reservation app, one constraint is that the server needs to keep the status of room availability updated at all times, which has an associated cost. Therefore, to keep the business viable, a minor convenience fee is added to the final payment.\n",
    "\n",
    "- Analysis and Desing:\n",
    "\n",
    "    After gathering the requirements and constraints, you must analyze each to create a possible solution for the application’s design. During analysis and design, there might be multiple rounds of verification and revision to create a model solution that meets all the specified requirements. Across the analysis and design phases of application development, you must maintain proper documentation with records of all updates in the design. This documentation should be clear and concise as used during the code and test phase. The final proposed design and the specified requirements are passed on to the code and test phase.\n",
    "\n",
    "- Code and test:\n",
    "\n",
    "    During the code and test phase, the team uses the programming requirements specified in the design documentation to code, test, revise, and test the application programs until the code meets all documented requirements. Let’s review the testing phase. The tests you conduct for the unit code is called unit testing. \n",
    "    Conduct the unit testing at the programming level to ensure you meet all required specifications. After the unit testing, you can generate an acceptable application version. The new version of the application is then run through a series of user and system level tests.  \n",
    "\n",
    "- User and system test:\n",
    "\n",
    "    The user tests verify the functionality from a user’s point of view. In addition, you will need to execute several system-level tests, including integration and performance testing. Integration tests verify that all involved programs continue functioning as expected after integration. Integration testing also verifies that the application functions within a larger framework. \n",
    "    Performance testing helps evaluate the speed, scalability, and stability of the application based on varying workloads.\n",
    "\n",
    "- Production:\n",
    "\n",
    "    After testing, you can generate a new application version and send it to production. Once in production, end users can access and use it. You must ensure that the application functions accurately and is available to users. When the application is in the production phase, it must remain in a steady state.\n",
    "    \n",
    "- Maintenance:\n",
    "\n",
    "    The last phase in the application development lifecycle is maintenance. The application might need an upgrade, or you might need to add new features. In this case, the new features must go through all previous phases before being integrated into the application version deployed in production."
   ]
  },
  {
   "cell_type": "markdown",
   "id": "0fec5a1b",
   "metadata": {},
   "source": [
    "A web app, is a program stored on a remote server and delivered over the internet. A user interacts with the app using a browser. Web services like e-commerce sites, webmail, and so on, are all web apps. While some apps may depend on the kind of browser being used, most web apps work on all modern web browsers. \n",
    "\n",
    "A web app requires three components to process a client request: a web server to manage raised requests, an app server to execute the requested task, and a database to store the information needed to complete the task. \n",
    "\n",
    "When programming web apps, you will write code for the user end or the front-end using JavaScript, HTML, or CSS. You will also code for the server-end or back-end using Python, Java, or Ruby. There are several advantages to using web apps over apps that strictly run locally on a user’s system. The advantages include: \n",
    "\n",
    "- Developers can make the same version of the app available to multiple users at the same time. \n",
    "- Users have the flexibility of using the app from their platform of choice, such as desktop, laptop, or mobile device. \n",
    "- Users can access the app through the browser of their choice. Users do not need to install the app on their local systems. "
   ]
  },
  {
   "cell_type": "markdown",
   "id": "010a8fe1",
   "metadata": {},
   "source": [
    "An API is a software component that enables two apps that are not connected with each other to communicate. APIs help create more flexibility for programmers and enable them to request data from otherwise closed-off apps. As a result, APIs have standardized rules and functions that determine what data can be taken or modified within an app and how that process occurs. For example, the apps on your phone require you to grant permission to different features of your phone, like location, camera, audio, and recorder. An example of an app that uses an API is a weather app. Your weather app does not generate weather data itself. Instead, it simply requests information from a weather API. The API connects the software that gathers and stores weather data with the app on your mobile device. The device, in turn, provides you with a detailed forecast for the next day. \n",
    "\n",
    "\n",
    "An API can be beneficial for many reasons, including it: \n",
    "- Improves connectivity between apps.\n",
    "-  Supports traditional create, read, update, delete (or CRUD) actions. \n",
    "- Works with HTTP verbs including, PUT, POST, DELETE, and GET. \n",
    "- Is based on HTTP, making it customizable. \n",
    "\n",
    "\n",
    "API is a more generic term given to all forms of apps that create a link between any two parts of a system. Web apps are a form of API that communicate between the front end and the back end. To clarify the distinction between web apps and APIs, let’s consider the example of an e-commerce shopping service. When you access the e-commerce shopping service from a browser, the browser acts as the API that connects you to the web app. When you select a product, the web app checks the availability of the product and, if available, displays its price. If you try to access the e-commerce shopping service using a mobile device, the app in your device acts as the API that connects to the e-commerce shopping service. \n",
    "\n",
    "The nature of all web apps is to share data with other apps; essentially, all web apps may be considered APIs. However, API is a generic term and includes both “online” or web-based, and “offline” apps. To summarize, all web apps are APIs, but not all APIs are web apps. "
   ]
  },
  {
   "cell_type": "markdown",
   "id": "5c82910b",
   "metadata": {},
   "source": [
    "## Unit testing\n",
    "\n",
    "Unit testing is a method to validate if units of code are operating as designed. A unit is a smaller, testable part of an application. Here is an example of a unit, which has two functions, square and doubler, in the mymodule.py file.\n",
    "\n",
    "![Descripción de la imagen](Images\\imageI.png)"
   ]
  },
  {
   "cell_type": "markdown",
   "id": "67b4e7df",
   "metadata": {},
   "source": [
    "To develop unit tests, you will use the unit test library, which is an installed Python module providing a framework containing test functionality. \n",
    "Let's briefly review the end-to-end testing process from unit testing through publishing to the production code base. During code development, you will test each unit. The test is performed in two phases. In the first phase, you will test the unit on your local system. If the test fails, you will determine the reason for the failure and fix the issue. Then, you will again test the unit. After the unit test passes, you will need to test the unit in a server environment, such as the Continuous Integration Continuous Delivery, or CICD, test server. \n",
    "If the unit fails the server test, you will receive the failure details. You will need to determine and fix the issue. Once the unit passes the server test, the unit is integrated into the final code base. After an overview to the unit test process, let's review some test functions to understand how to build unit tests"
   ]
  },
  {
   "cell_type": "markdown",
   "id": "5e9df959",
   "metadata": {},
   "source": [
    "![Descripción de la imagen](Images\\imageII.png)"
   ]
  },
  {
   "cell_type": "markdown",
   "id": "f9206b5d",
   "metadata": {},
   "source": [
    "The first step is to import the unit test Python library. Type import unit test. Next, import the functions to test. For example, to import the square and doubler from the mymodule unit to unit test, type from mymodule import square, doubler. Then, build the unit testing class to call the unit test from a single class object. \n",
    "\n",
    "\n",
    "For example, to create a class named TestMyModule, enter class test with uppercase T in the first occurrence, my with uppercase M, module with capital M, unit test, dot, test case with T and C in uppercase. Notice how the class name has test prefixed to the unit name in the example. It is a good naming convention to prefix test to the class name to help distinguish between the unit class and the unit test class. Next, make the class inherit the test case class of the unit test library. For example, test case is the test case class of the unit test library. Inheriting the class allows you to leverage the existing methods in the test case class. Then, create functions in the unit testing class corresponding to each function that needs to be tested. \n",
    "\n",
    "For example, in the TestMyModule class, two functions, test square and test doubler, correspond to the square and doubler functions in the mymodule unit. Note, make sure that the functions are prepended with the test in the unit test module, because only functions that start with test are run. Finally, you can create test cases. When creating the test cases, add one or more assertion methods to ensure that the unit test condition is met. One assertion function is assertEqual. Notice that the method has been added to the test case class in the code. The assertEqual function compares two values or entities and determines if they are equal. \n",
    "\n",
    "The method is used to check if functions are returning the correct values. One of the parameters that the assertEqual function takes is the actual value. For the actual value, you will call the function that you want to test. The second parameter is the expected value where you will add what the function is expected to return. In the example, the first test is for the square function using the number 2, which should return a value 4 if the function executes correctly. As part of the test, first, the function is evaluated. Then, the two values are compared to see if they are equal. \n",
    "\n",
    "Depending on the output of the comparison, the test passes or fails. After running the test file, an output is generated. The output displays the test results along with some additional details. For example, if the output displays that two tests were run in 0 seconds, OK indicates that the test passed and the two functions were implemented correctly. But what happens if the func"
   ]
  },
  {
   "cell_type": "markdown",
   "id": "bac1f2e7",
   "metadata": {},
   "source": [
    "| Package/Method | Description | Code Example |\n",
    "|---------------|-------------|--------------|\n",
    "| **Packaging** | To create a package, the folder structure is as follows:<br>Project folder → Package name → `__init__.py`, `module_1.py`, `module_2.py`, and so on.<br>In the `__init__.py` file, add code to reference the modules in the package. | `module1.py`<br>```python<br>def function_1(arg):<br>    return <operation output><br>```<br><br>`__init__.py`:<br>```python<br>from . import function_1<br>``` |\n",
    "| **Python Style Guide** | • Four spaces for indentation<br>• Use blank lines to separate functions and classes<br>• Use spaces around operators and after commas<br>• Add larger blocks of code inside functions<br>• Name functions and files using lowercase with underscores<br>• Name classes using CamelCase<br>• Name constants in capital letters with underscores separating words | ```python<br>def function_1(a, b):<br>    if a > b:<br>        c = c + 5<br>    else:<br>        c = c - 3<br>    return c<br>```<br>...<br>```python<br>c = function_1(a, b)<br>```<br><br>Constant Definition example:<br>```python<br>MAX_FILE_UPLOAD_SIZE<br>``` |\n",
    "| **Static Code Analysis** | Use Static code analysis method to evaluate your code against a predefined style and standard without executing the code.<br>For example, use Pylint to perform static code analysis. | Shell code:<br>```bash<br>pylint code.py<br>``` |\n",
    "| **Unit Testing** | Unit testing is a method to validate if units of code are operating as designed.<br>During code development, each unit is tested. The unit is tested in a continuous integration/continuous delivery test server environment.<br>You can use different test functions to build unit tests and review the unit test output to determine if the test passed or failed. | ```python<br>import unittest<br>from mypackage.mymodule import my_function<br><br>class TestMyFunction(unittest.TestCase):<br>    def test_my_function(self):<br>        result = my_function(<args>)<br>        self.asserEqual(result, <response>)<br><br>unittest.main()<br>``` |"
   ]
  },
  {
   "cell_type": "markdown",
   "id": "c9e9b223",
   "metadata": {},
   "source": [
    "# Module 2"
   ]
  }
 ],
 "metadata": {
  "language_info": {
   "name": "python"
  }
 },
 "nbformat": 4,
 "nbformat_minor": 5
}
